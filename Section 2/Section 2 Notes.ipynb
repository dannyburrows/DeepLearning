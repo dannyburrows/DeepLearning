{
 "cells": [
  {
   "cell_type": "markdown",
   "metadata": {},
   "source": [
    "# Sigmoids\n",
    "The sigmoid function is defined as sigmoid(x) = 1/(1+e-x). If the score is defined by 4x1 + 5x2 - 9 = score, then which of the following points has exactly a 50% probability of being blue or red? (Choose all that are correct.)\n",
    "\n",
    "(1,1)\n",
    "(2,4)\n",
    "(5,-5)\n",
    "(-4,5)"
   ]
  },
  {
   "cell_type": "code",
   "execution_count": 8,
   "metadata": {},
   "outputs": [
    {
     "name": "stdout",
     "output_type": "stream",
     "text": [
      "Sigmoid for (1, 1) is 0.5\n",
      "Sigmoid for (2, 4) is 0.9999999943972036\n",
      "Sigmoid for (5, -5) is 8.315280276641321e-07\n",
      "Sigmoid for (-4, 5) is 0.5\n"
     ]
    }
   ],
   "source": [
    "import numpy as np\n",
    "\n",
    "values = [[1,1], [2,4], [5, -5], [-4, 5]]\n",
    "def sigmoid(z):\n",
    "    return 1/(1 + np.exp(-z))\n",
    "\n",
    "def score(x,y):\n",
    "    return 4*x + 5*y - 9\n",
    "\n",
    "def calc(x, y):\n",
    "    return sigmoid(score(x, y))\n",
    "\n",
    "for val in range(len(values)):\n",
    "    result = calc(values[val][0], values[val][1])\n",
    "    print('Sigmoid for ({}, {}) is {}'.format(str(values[val][0]), str(values[val][1]), str(result)))\n",
    "    "
   ]
  },
  {
   "cell_type": "markdown",
   "metadata": {},
   "source": [
    "# Softmax\n",
    "- Step function is true / false\n",
    "- Sigmoid gives a probability\n",
    "- Softmax gives probably of classification"
   ]
  },
  {
   "cell_type": "markdown",
   "metadata": {},
   "source": [
    "Quiz: Coding Softmax\n",
    "And now, your time to shine! Let's code the formula for the Softmax function in Python."
   ]
  },
  {
   "cell_type": "code",
   "execution_count": 11,
   "metadata": {},
   "outputs": [
    {
     "name": "stdout",
     "output_type": "stream",
     "text": [
      "[0.8360188  0.11314284 0.05083836]\n"
     ]
    }
   ],
   "source": [
    "import numpy as np\n",
    "\n",
    "# Write a function that takes as input a list of numbers, and returns\n",
    "# the list of values given by the softmax function.\n",
    "def softmax(L):\n",
    "    e_L = np.exp(L)\n",
    "    return e_L / e_L.sum()\n",
    "\n",
    "print(softmax([3.0, 1.0, 0.2]))"
   ]
  },
  {
   "cell_type": "markdown",
   "metadata": {},
   "source": [
    "# Cross Entropy\n",
    "- ln(probability_of_point) + -ln(probability_of_diff_point)\n",
    "\n",
    "Closer to 0 == better\n",
    "\n",
    "Now, time to shine! Let's code the formula for cross-entropy in Python. As in the video, Y in the quiz is for the category, and P is the probability.\n",
    "\n",
    "[From stackoverflow on `_` in Numpy](https://stackoverflow.com/questions/6205020/numpy-types-with-underscore-int-float-etc)\n",
    "The array types bool_, int_, complex_, float_, object_, unicode_, and str_ are enhanced-scalars. They are very similar to the standard Python types (without the trailing underscore) and inherit from them (except for bool_ and object_). They can be used in place of the standard Python types whenever desired. Whenever a data type is required, as an argument, the standard Python types are recognized as well."
   ]
  },
  {
   "cell_type": "code",
   "execution_count": 16,
   "metadata": {},
   "outputs": [
    {
     "name": "stdout",
     "output_type": "stream",
     "text": [
      "0.6851790109107685\n"
     ]
    }
   ],
   "source": [
    "import numpy as np\n",
    "\n",
    "# Write a function that takes as input two lists Y, P,\n",
    "# and returns the float corresponding to their cross-entropy.\n",
    "def cross_entropy(Y, P):\n",
    "    Y = np.float_(Y)\n",
    "    P = np.float_(P)\n",
    "    return -np.sum(Y * np.log(P) + (1 - Y) * np.log(1 - P))\n",
    "\n",
    "print(cross_entropy([1, 1, 0],[0.8, 0.7, 0.1]))"
   ]
  },
  {
   "cell_type": "code",
   "execution_count": null,
   "metadata": {},
   "outputs": [],
   "source": []
  }
 ],
 "metadata": {
  "kernelspec": {
   "display_name": "Python 3",
   "language": "python",
   "name": "python3"
  },
  "language_info": {
   "codemirror_mode": {
    "name": "ipython",
    "version": 3
   },
   "file_extension": ".py",
   "mimetype": "text/x-python",
   "name": "python",
   "nbconvert_exporter": "python",
   "pygments_lexer": "ipython3",
   "version": "3.8.5"
  }
 },
 "nbformat": 4,
 "nbformat_minor": 4
}
